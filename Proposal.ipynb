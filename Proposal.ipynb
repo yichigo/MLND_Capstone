{
 "cells": [
  {
   "cell_type": "markdown",
   "metadata": {},
   "source": [
    "## MLND Capstone Proposal:\n",
    "# <center>LSTM Predictor for S&P 500 </center>\n",
    "\n",
    "### Yichao Zhang\n",
    "### Oct, 2018\n",
    "\n",
    "\n",
    "\n",
    "\n"
   ]
  },
  {
   "cell_type": "markdown",
   "metadata": {},
   "source": [
    "## Domain Background\n",
    "\n",
    "Inverstment companies use financial model to predict stocks. Some useful feature informations are hidden behind the historical data and other relative performance. However, stock price is not explicitly depend on these features, the prediction problem has never been well solved by any current math model.\n",
    "\n",
    "Machine learning has the potential to create a complex statistical model for stock price prediction."
   ]
  },
  {
   "cell_type": "markdown",
   "metadata": {},
   "source": [
    "## Problem Statement\n",
    "\n",
    "Standard & Poor's 500 ([S&P 500](https://en.wikipedia.org/wiki/S%26P_500_Index)) is a very important index in stock trading market. Here we are going to build a machine learning model to predict the close price of S&P 500 in the next day."
   ]
  },
  {
   "cell_type": "markdown",
   "metadata": {},
   "source": [
    "## Datasets and Inputs\n",
    "\n",
    "The data is from [Yahoo Finance](https://finance.yahoo.com/quote/%5EGSPC/), we download the data of recent 20 years (from 1998/08 to 2018/07) for training and testing.\n",
    "\n",
    "Each data instance of one day includes: Date, Open, High, Low, Close, Adj Close and Volume. [Adj Close](https://www.investopedia.com/terms/a/adjusted_closing_price.asp) is Adjusted Closing Price, and will be eliminated if it is all the same with Closing Price. For each instance:\n",
    "\n",
    "Input:\n",
    "\n",
    "Open, High, Low, Close, Adj Close and Volume in the recent 50 days.\n",
    "\n",
    "Output:\n",
    "\n",
    "The Close in the next day, that means the Close shifted by -1 day.\n",
    "\n"
   ]
  },
  {
   "cell_type": "markdown",
   "metadata": {},
   "source": [
    "## Solution Statement\n",
    "\n",
    "In this projest, we will use two regression models in supervised learning algorithms: Linear Regression and [LSTM](https://en.wikipedia.org/wiki/Long_short-term_memory). We will compare the performance of these two models and choose the better one."
   ]
  },
  {
   "cell_type": "markdown",
   "metadata": {},
   "source": [
    "## Benchmark Model\n",
    "\n",
    "We will use the Linear Regression model as a benchmark model. And LSTM will be our primary model."
   ]
  },
  {
   "cell_type": "markdown",
   "metadata": {},
   "source": [
    "## Evaluation Metrics\n",
    "\n",
    "The error of each model will be represented by Root-mean-square deviation ([RMSE](https://en.wikipedia.org/wiki/Root-mean-square_deviation)), which is the square root of the mean of squared errors."
   ]
  },
  {
   "cell_type": "markdown",
   "metadata": {},
   "source": [
    "## Project Design\n",
    "\n",
    "1. Data Preprocessing\n",
    "    * Download the original data of S&P 500 from yahoo\n",
    "    * Select data columns\n",
    "    * Scale the data\n",
    "    * Convert data type.\n",
    "2. Develop Linear Regression Model\n",
    "    * Create model\n",
    "    * Fit the model\n",
    "    * Prediction\n",
    "    * Check Performance\n",
    "3. Develop LSTM Model\n",
    "    * Create model\n",
    "    * Fit the model\n",
    "    * Prediction\n",
    "    * Check Performance, and compare with Linear Regression model. \n",
    "4. Plot graphs and write the report"
   ]
  },
  {
   "cell_type": "code",
   "execution_count": null,
   "metadata": {},
   "outputs": [],
   "source": []
  }
 ],
 "metadata": {
  "kernelspec": {
   "display_name": "Python 3",
   "language": "python",
   "name": "python3"
  },
  "language_info": {
   "codemirror_mode": {
    "name": "ipython",
    "version": 3
   },
   "file_extension": ".py",
   "mimetype": "text/x-python",
   "name": "python",
   "nbconvert_exporter": "python",
   "pygments_lexer": "ipython3",
   "version": "3.6.3"
  }
 },
 "nbformat": 4,
 "nbformat_minor": 2
}
